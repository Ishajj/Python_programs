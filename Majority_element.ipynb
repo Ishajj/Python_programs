{
 "cells": [
  {
   "cell_type": "code",
   "execution_count": 33,
   "id": "9cf609f7",
   "metadata": {},
   "outputs": [],
   "source": [
    "def majority(str1):\n",
    "    \"\"\"Count max occurence of char in string\"\"\"\n",
    "    dic={}\n",
    "    for i in str1:\n",
    "        count_=str1.count(i)\n",
    "        dic[i]=count_\n",
    "    max_key = max(dic, key=dic.get)\n",
    "    return max_key"
   ]
  },
  {
   "cell_type": "code",
   "execution_count": 34,
   "id": "b323057b",
   "metadata": {},
   "outputs": [
    {
     "data": {
      "text/plain": [
       "'k'"
      ]
     },
     "execution_count": 34,
     "metadata": {},
     "output_type": "execute_result"
    }
   ],
   "source": [
    "majority(\"popikkk\")"
   ]
  },
  {
   "cell_type": "code",
   "execution_count": 68,
   "id": "11707441",
   "metadata": {},
   "outputs": [],
   "source": [
    "def majority_(lst):\n",
    "    \"\"\"Count max occurence of char in string\"\"\"\n",
    "    return max(lst,key=lst.count)"
   ]
  },
  {
   "cell_type": "code",
   "execution_count": 69,
   "id": "85400437",
   "metadata": {},
   "outputs": [
    {
     "data": {
      "text/plain": [
       "2"
      ]
     },
     "execution_count": 69,
     "metadata": {},
     "output_type": "execute_result"
    }
   ],
   "source": [
    "majority_([1,1,5,5,22,2,4,2,2,2,2,2,1,1])"
   ]
  },
  {
   "cell_type": "code",
   "execution_count": null,
   "id": "8fbcf9e2",
   "metadata": {},
   "outputs": [],
   "source": []
  }
 ],
 "metadata": {
  "kernelspec": {
   "display_name": "Python 3 (ipykernel)",
   "language": "python",
   "name": "python3"
  },
  "language_info": {
   "codemirror_mode": {
    "name": "ipython",
    "version": 3
   },
   "file_extension": ".py",
   "mimetype": "text/x-python",
   "name": "python",
   "nbconvert_exporter": "python",
   "pygments_lexer": "ipython3",
   "version": "3.9.7"
  }
 },
 "nbformat": 4,
 "nbformat_minor": 5
}
