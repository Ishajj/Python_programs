{
 "cells": [
  {
   "cell_type": "code",
   "execution_count": 11,
   "id": "5375c131",
   "metadata": {},
   "outputs": [],
   "source": [
    "def powerofthree(num):\n",
    "    \"check if given integer is power of three\"\n",
    "    curr_quotient = num\n",
    "    if curr_quotient == 1:\n",
    "        return True\n",
    "\n",
    "    while curr_quotient > 0:\n",
    "        curr_quotient = curr_quotient / 3\n",
    "        if curr_quotient == 1:\n",
    "            return True\n",
    "\n",
    "    return False\n",
    "    "
   ]
  },
  {
   "cell_type": "code",
   "execution_count": 12,
   "id": "93a16edf",
   "metadata": {},
   "outputs": [
    {
     "data": {
      "text/plain": [
       "True"
      ]
     },
     "execution_count": 12,
     "metadata": {},
     "output_type": "execute_result"
    }
   ],
   "source": [
    "powerofthree(27)"
   ]
  },
  {
   "cell_type": "code",
   "execution_count": 13,
   "id": "bc83fbb9",
   "metadata": {},
   "outputs": [
    {
     "data": {
      "text/plain": [
       "True"
      ]
     },
     "execution_count": 13,
     "metadata": {},
     "output_type": "execute_result"
    }
   ],
   "source": [
    "powerofthree(9)"
   ]
  },
  {
   "cell_type": "code",
   "execution_count": 14,
   "id": "b0b054f1",
   "metadata": {},
   "outputs": [
    {
     "data": {
      "text/plain": [
       "True"
      ]
     },
     "execution_count": 14,
     "metadata": {},
     "output_type": "execute_result"
    }
   ],
   "source": [
    "powerofthree(27)"
   ]
  },
  {
   "cell_type": "code",
   "execution_count": 15,
   "id": "8fe85342",
   "metadata": {},
   "outputs": [
    {
     "data": {
      "text/plain": [
       "True"
      ]
     },
     "execution_count": 15,
     "metadata": {},
     "output_type": "execute_result"
    }
   ],
   "source": [
    "powerofthree(54)"
   ]
  },
  {
   "cell_type": "code",
   "execution_count": null,
   "id": "23c37d3d",
   "metadata": {},
   "outputs": [],
   "source": []
  }
 ],
 "metadata": {
  "kernelspec": {
   "display_name": "Python 3 (ipykernel)",
   "language": "python",
   "name": "python3"
  },
  "language_info": {
   "codemirror_mode": {
    "name": "ipython",
    "version": 3
   },
   "file_extension": ".py",
   "mimetype": "text/x-python",
   "name": "python",
   "nbconvert_exporter": "python",
   "pygments_lexer": "ipython3",
   "version": "3.9.7"
  }
 },
 "nbformat": 4,
 "nbformat_minor": 5
}
