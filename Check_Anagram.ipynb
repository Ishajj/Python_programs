{
 "cells": [
  {
   "cell_type": "code",
   "execution_count": 19,
   "id": "c91f4fe5",
   "metadata": {},
   "outputs": [],
   "source": [
    "def isAnagram(str1, str2):\n",
    "    lis= []\n",
    "    for i in range(len(str1.lower())):\n",
    "        if len(str1.lower())==len(str2.lower()):\n",
    "            if str1[i].lower() in str2.lower():\n",
    "                lis.append(\"True\")\n",
    "            else:\n",
    "                lis.append(\"False\")\n",
    "        if \"True\" in lis:\n",
    "                   return True\n",
    "        else:\n",
    "                   return False\n",
    "\n",
    "        "
   ]
  },
  {
   "cell_type": "code",
   "execution_count": 23,
   "id": "9c3f670a",
   "metadata": {},
   "outputs": [
    {
     "data": {
      "text/plain": [
       "True"
      ]
     },
     "execution_count": 23,
     "metadata": {},
     "output_type": "execute_result"
    }
   ],
   "source": [
    "isAnagram(\"Ishaw1\",\"Sahiw1\")"
   ]
  },
  {
   "cell_type": "code",
   "execution_count": 5,
   "id": "b3c8f7d0",
   "metadata": {},
   "outputs": [],
   "source": [
    "str1= \"Isha\""
   ]
  },
  {
   "cell_type": "code",
   "execution_count": 6,
   "id": "477b814f",
   "metadata": {},
   "outputs": [
    {
     "data": {
      "text/plain": [
       "list['Isha']"
      ]
     },
     "execution_count": 6,
     "metadata": {},
     "output_type": "execute_result"
    }
   ],
   "source": [
    "list[str1]"
   ]
  },
  {
   "cell_type": "code",
   "execution_count": null,
   "id": "c5050f7a",
   "metadata": {},
   "outputs": [],
   "source": []
  }
 ],
 "metadata": {
  "kernelspec": {
   "display_name": "Python 3 (ipykernel)",
   "language": "python",
   "name": "python3"
  },
  "language_info": {
   "codemirror_mode": {
    "name": "ipython",
    "version": 3
   },
   "file_extension": ".py",
   "mimetype": "text/x-python",
   "name": "python",
   "nbconvert_exporter": "python",
   "pygments_lexer": "ipython3",
   "version": "3.9.7"
  }
 },
 "nbformat": 4,
 "nbformat_minor": 5
}
