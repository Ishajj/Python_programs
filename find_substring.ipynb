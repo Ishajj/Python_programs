{
 "cells": [
  {
   "cell_type": "code",
   "execution_count": 34,
   "id": "f3099f0e",
   "metadata": {},
   "outputs": [],
   "source": [
    "def find_substring(st, sub):\n",
    "    \"find substring in a string\"\n",
    "    if sub in st:\n",
    "        x=len(sub)\n",
    "        return st.index(sub[0:1+x])             \n",
    "            \n",
    "    else:\n",
    "        return -1"
   ]
  },
  {
   "cell_type": "code",
   "execution_count": 36,
   "id": "3ec52752",
   "metadata": {},
   "outputs": [
    {
     "data": {
      "text/plain": [
       "6"
      ]
     },
     "execution_count": 36,
     "metadata": {},
     "output_type": "execute_result"
    }
   ],
   "source": [
    "find_substring(\"thepigflewwow\", \"flew\")"
   ]
  },
  {
   "cell_type": "code",
   "execution_count": null,
   "id": "e7ab7dcf",
   "metadata": {},
   "outputs": [],
   "source": []
  }
 ],
 "metadata": {
  "kernelspec": {
   "display_name": "Python 3 (ipykernel)",
   "language": "python",
   "name": "python3"
  },
  "language_info": {
   "codemirror_mode": {
    "name": "ipython",
    "version": 3
   },
   "file_extension": ".py",
   "mimetype": "text/x-python",
   "name": "python",
   "nbconvert_exporter": "python",
   "pygments_lexer": "ipython3",
   "version": "3.9.7"
  }
 },
 "nbformat": 4,
 "nbformat_minor": 5
}
