{
 "cells": [
  {
   "cell_type": "code",
   "execution_count": 13,
   "id": "6c7f181e",
   "metadata": {},
   "outputs": [],
   "source": [
    "# WAY 1"
   ]
  },
  {
   "cell_type": "code",
   "execution_count": 10,
   "id": "b7e61ccd",
   "metadata": {},
   "outputs": [],
   "source": [
    "def reverseString(word):\n",
    "    return word[::-1]"
   ]
  },
  {
   "cell_type": "code",
   "execution_count": 11,
   "id": "fcc1e81a",
   "metadata": {},
   "outputs": [
    {
     "data": {
      "text/plain": [
       "'ahsI'"
      ]
     },
     "execution_count": 11,
     "metadata": {},
     "output_type": "execute_result"
    }
   ],
   "source": [
    "reverseString(\"Isha\")"
   ]
  },
  {
   "cell_type": "code",
   "execution_count": 3,
   "id": "4dbda6b2",
   "metadata": {},
   "outputs": [],
   "source": [
    "# WAY 2"
   ]
  },
  {
   "cell_type": "code",
   "execution_count": 5,
   "id": "d12c8419",
   "metadata": {},
   "outputs": [
    {
     "data": {
      "text/plain": [
       "'p'"
      ]
     },
     "execution_count": 5,
     "metadata": {},
     "output_type": "execute_result"
    }
   ],
   "source": [
    "word= \"Papw\"\n",
    "word[-2]"
   ]
  },
  {
   "cell_type": "code",
   "execution_count": 12,
   "id": "9cf7d12b",
   "metadata": {},
   "outputs": [
    {
     "name": "stdout",
     "output_type": "stream",
     "text": [
      "ragaS\n"
     ]
    }
   ],
   "source": [
    "word = \"Sagar\"\n",
    "st=[]\n",
    "for i in range(len(word)):\n",
    "    st.append(word[-i-1])\n",
    "print(''.join(st))"
   ]
  },
  {
   "cell_type": "code",
   "execution_count": null,
   "id": "30322685",
   "metadata": {},
   "outputs": [],
   "source": []
  }
 ],
 "metadata": {
  "kernelspec": {
   "display_name": "Python 3 (ipykernel)",
   "language": "python",
   "name": "python3"
  },
  "language_info": {
   "codemirror_mode": {
    "name": "ipython",
    "version": 3
   },
   "file_extension": ".py",
   "mimetype": "text/x-python",
   "name": "python",
   "nbconvert_exporter": "python",
   "pygments_lexer": "ipython3",
   "version": "3.9.7"
  }
 },
 "nbformat": 4,
 "nbformat_minor": 5
}
