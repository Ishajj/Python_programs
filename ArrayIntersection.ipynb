{
 "cells": [
  {
   "cell_type": "code",
   "execution_count": 1,
   "id": "063717c6",
   "metadata": {},
   "outputs": [],
   "source": [
    "arr1=[\"Red\", \"Green\", \"Blue\", \"Yellow\"]"
   ]
  },
  {
   "cell_type": "code",
   "execution_count": 4,
   "id": "91962e0e",
   "metadata": {},
   "outputs": [],
   "source": [
    "arr2=[\"Green\", \"Red\", \"Orange\", \"Pink\"]"
   ]
  },
  {
   "cell_type": "code",
   "execution_count": 5,
   "id": "e7f19e2d",
   "metadata": {},
   "outputs": [
    {
     "name": "stdout",
     "output_type": "stream",
     "text": [
      "['Red', 'Green']\n"
     ]
    }
   ],
   "source": [
    "arr3=[]\n",
    "for i in range(len(arr1)):\n",
    "    for j in range(len(arr2)):\n",
    "        if arr2[j] in arr1[i]:\n",
    "            arr3.append(arr2[j])\n",
    "            \n",
    "print(arr3)\n",
    "    "
   ]
  },
  {
   "cell_type": "code",
   "execution_count": null,
   "id": "61b8974a",
   "metadata": {},
   "outputs": [],
   "source": []
  }
 ],
 "metadata": {
  "kernelspec": {
   "display_name": "Python 3 (ipykernel)",
   "language": "python",
   "name": "python3"
  },
  "language_info": {
   "codemirror_mode": {
    "name": "ipython",
    "version": 3
   },
   "file_extension": ".py",
   "mimetype": "text/x-python",
   "name": "python",
   "nbconvert_exporter": "python",
   "pygments_lexer": "ipython3",
   "version": "3.9.7"
  }
 },
 "nbformat": 4,
 "nbformat_minor": 5
}
