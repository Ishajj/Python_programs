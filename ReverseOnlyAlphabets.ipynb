{
 "cells": [
  {
   "cell_type": "code",
   "execution_count": 43,
   "id": "36fb2093",
   "metadata": {},
   "outputs": [],
   "source": [
    "S = \"sea!$hells3\""
   ]
  },
  {
   "cell_type": "code",
   "execution_count": 36,
   "id": "66f91bf8",
   "metadata": {},
   "outputs": [
    {
     "data": {
      "text/plain": [
       "'sea!$hells3'"
      ]
     },
     "execution_count": 36,
     "metadata": {},
     "output_type": "execute_result"
    }
   ],
   "source": [
    "word"
   ]
  },
  {
   "cell_type": "code",
   "execution_count": 37,
   "id": "6fc297b1",
   "metadata": {},
   "outputs": [],
   "source": [
    "word1=list(word)"
   ]
  },
  {
   "cell_type": "code",
   "execution_count": 38,
   "id": "3b8b335d",
   "metadata": {},
   "outputs": [
    {
     "data": {
      "text/plain": [
       "['s', 'e', 'a', '!', '$', 'h', 'e', 'l', 'l', 's', '3']"
      ]
     },
     "execution_count": 38,
     "metadata": {},
     "output_type": "execute_result"
    }
   ],
   "source": [
    "word1"
   ]
  },
  {
   "cell_type": "code",
   "execution_count": 39,
   "id": "cd40dba9",
   "metadata": {},
   "outputs": [
    {
     "data": {
      "text/plain": [
       "['s', 'l', 'l', 'e', 'h', 'a', 'e', 's']"
      ]
     },
     "execution_count": 39,
     "metadata": {},
     "output_type": "execute_result"
    }
   ],
   "source": [
    "arr=[]\n",
    "for i in range(len(word)):\n",
    "    if word[i].isalpha():\n",
    "        arr.append(word[i])\n",
    "        \n",
    "reversed_arr = arr[::-1] #AEDFB\n",
    "reversed_arr   "
   ]
  },
  {
   "cell_type": "code",
   "execution_count": 40,
   "id": "ec10f083",
   "metadata": {},
   "outputs": [
    {
     "data": {
      "text/plain": [
       "'sllehaes'"
      ]
     },
     "execution_count": 40,
     "metadata": {},
     "output_type": "execute_result"
    }
   ],
   "source": [
    "rev_str=''.join(reversed_arr)\n",
    "rev_str"
   ]
  },
  {
   "cell_type": "code",
   "execution_count": 41,
   "id": "b9e18287",
   "metadata": {},
   "outputs": [
    {
     "name": "stdout",
     "output_type": "stream",
     "text": [
      "s\n",
      "s\n",
      "afters\n",
      "l\n",
      "e\n",
      "afterl\n",
      "l\n",
      "a\n",
      "afterl\n",
      "h\n",
      "h\n",
      "afterh\n",
      "a\n",
      "e\n",
      "aftera\n",
      "e\n",
      "l\n",
      "aftere\n",
      "s\n",
      "l\n",
      "afters\n"
     ]
    }
   ],
   "source": [
    "i=0\n",
    "j=0\n",
    "while(i<len(word1) and j<len(reversed_arr)): # B!FDEA2\n",
    "    if word1[i].isalpha():\n",
    "        print(reversed_arr[j])\n",
    "        print(word1[i])\n",
    "        word1[i] = reversed_arr[j]\n",
    "        print(\"after\"+ word1[i])\n",
    "        j+=1 #2\n",
    "        i+=1 #\n",
    "    else:\n",
    "        j=i \n",
    "        i+=1   \n",
    "    \n",
    "    "
   ]
  },
  {
   "cell_type": "code",
   "execution_count": 42,
   "id": "834ca925",
   "metadata": {},
   "outputs": [
    {
     "data": {
      "text/plain": [
       "['s', 'l', 'l', '!', '$', 'h', 'a', 'e', 's', 's', '3']"
      ]
     },
     "execution_count": 42,
     "metadata": {},
     "output_type": "execute_result"
    }
   ],
   "source": [
    "word1"
   ]
  },
  {
   "cell_type": "code",
   "execution_count": 47,
   "id": "b0eec498",
   "metadata": {},
   "outputs": [],
   "source": [
    "if not S:\n",
    "    print(S)\n",
    "str_= \"\"\n",
    "index1 = 0\n",
    "index2 = len(S)-1\n",
    "while index1<len(S):\n",
    "#print(index1,index2)\n",
    "    if index2>=0 and S[index1].isalpha() and S[index2].isalpha():\n",
    "        str_+=S[index2]\n",
    "        index2 -= 1\n",
    "        index1 += 1\n",
    "    elif S[index1].isalpha():\n",
    "        index2-=1\n",
    "    elif not S[index1].isalpha():\n",
    "        str_+=S[index1]\n",
    "        index1+=1\n",
    "    else:\n",
    "        index2 -= 1\n",
    "        index1 += 1"
   ]
  },
  {
   "cell_type": "code",
   "execution_count": 49,
   "id": "06eed3a2",
   "metadata": {},
   "outputs": [
    {
     "name": "stdout",
     "output_type": "stream",
     "text": [
      "sll!$ehaes3\n"
     ]
    }
   ],
   "source": [
    "print(str_)"
   ]
  },
  {
   "cell_type": "code",
   "execution_count": null,
   "id": "cf223628",
   "metadata": {},
   "outputs": [],
   "source": []
  }
 ],
 "metadata": {
  "kernelspec": {
   "display_name": "Python 3 (ipykernel)",
   "language": "python",
   "name": "python3"
  },
  "language_info": {
   "codemirror_mode": {
    "name": "ipython",
    "version": 3
   },
   "file_extension": ".py",
   "mimetype": "text/x-python",
   "name": "python",
   "nbconvert_exporter": "python",
   "pygments_lexer": "ipython3",
   "version": "3.9.7"
  }
 },
 "nbformat": 4,
 "nbformat_minor": 5
}
