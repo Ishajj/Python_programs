{
 "cells": [
  {
   "cell_type": "code",
   "execution_count": 33,
   "id": "eb09c2c1",
   "metadata": {},
   "outputs": [
    {
     "name": "stdout",
     "output_type": "stream",
     "text": [
      "[1, 2, 'fizz', 4, 'buzz', 'fizz', 7, 8, 'fizz', 'buzz', 11, 'fizz', 13, 14, 'fizzbuzz']\n"
     ]
    }
   ],
   "source": [
    "num = 15\n",
    "ls=[]\n",
    "s=\"\"\n",
    "i=1\n",
    "while i<=num:\n",
    "    if (i%3==0 and i%5==0):\n",
    "        ls.append('fizzbuzz')\n",
    "    elif i%3==0:\n",
    "        ls.append('fizz')\n",
    "    elif i%5==0:\n",
    "        ls.append('buzz')\n",
    "    else:\n",
    "        ls.append(i)\n",
    "    i=i+1\n",
    "        \n",
    "print(ls)      "
   ]
  },
  {
   "cell_type": "code",
   "execution_count": 34,
   "id": "0516587b",
   "metadata": {},
   "outputs": [
    {
     "data": {
      "text/plain": [
       "'12fizz4buzzfizz78fizzbuzz11fizz1314fizzbuzz'"
      ]
     },
     "execution_count": 34,
     "metadata": {},
     "output_type": "execute_result"
    }
   ],
   "source": [
    "''.join(map(str, ls))"
   ]
  },
  {
   "cell_type": "markdown",
   "id": "7e42a983",
   "metadata": {},
   "source": [
    "##### "
   ]
  }
 ],
 "metadata": {
  "kernelspec": {
   "display_name": "Python 3 (ipykernel)",
   "language": "python",
   "name": "python3"
  },
  "language_info": {
   "codemirror_mode": {
    "name": "ipython",
    "version": 3
   },
   "file_extension": ".py",
   "mimetype": "text/x-python",
   "name": "python",
   "nbconvert_exporter": "python",
   "pygments_lexer": "ipython3",
   "version": "3.9.7"
  }
 },
 "nbformat": 4,
 "nbformat_minor": 5
}
