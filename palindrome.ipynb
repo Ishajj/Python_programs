{
 "cells": [
  {
   "cell_type": "code",
   "execution_count": 7,
   "id": "91980c7e",
   "metadata": {},
   "outputs": [],
   "source": [
    "def isPalindrome(str):\n",
    "    #pop #pop\n",
    "    return list(reversed(str))\n",
    "    "
   ]
  },
  {
   "cell_type": "code",
   "execution_count": 8,
   "id": "012970dd",
   "metadata": {},
   "outputs": [
    {
     "data": {
      "text/plain": [
       "['i', 'p', 'o', 'p']"
      ]
     },
     "execution_count": 8,
     "metadata": {},
     "output_type": "execute_result"
    }
   ],
   "source": [
    "isPalindrome(\"popi\")"
   ]
  },
  {
   "cell_type": "code",
   "execution_count": 52,
   "id": "e6de2c80",
   "metadata": {},
   "outputs": [],
   "source": [
    "def isPalindrome1(str1):\n",
    "    ls=[]\n",
    "    i=len(str1)-1 #2\n",
    "    while i>=0:\n",
    "        ls.append(str1[i])\n",
    "        i-=1\n",
    "    print(type(ls))\n",
    "    reverse_str =''.join(ls).lower()\n",
    "    \n",
    "    return str1.lower()==reverse_str"
   ]
  },
  {
   "cell_type": "code",
   "execution_count": 54,
   "id": "2723ded1",
   "metadata": {},
   "outputs": [
    {
     "name": "stdout",
     "output_type": "stream",
     "text": [
      "<class 'list'>\n"
     ]
    },
    {
     "data": {
      "text/plain": [
       "False"
      ]
     },
     "execution_count": 54,
     "metadata": {},
     "output_type": "execute_result"
    }
   ],
   "source": [
    "isPalindrome1(\"Popi\")"
   ]
  },
  {
   "cell_type": "code",
   "execution_count": null,
   "id": "09c1e152",
   "metadata": {},
   "outputs": [],
   "source": []
  }
 ],
 "metadata": {
  "kernelspec": {
   "display_name": "Python 3 (ipykernel)",
   "language": "python",
   "name": "python3"
  },
  "language_info": {
   "codemirror_mode": {
    "name": "ipython",
    "version": 3
   },
   "file_extension": ".py",
   "mimetype": "text/x-python",
   "name": "python",
   "nbconvert_exporter": "python",
   "pygments_lexer": "ipython3",
   "version": "3.9.7"
  }
 },
 "nbformat": 4,
 "nbformat_minor": 5
}
