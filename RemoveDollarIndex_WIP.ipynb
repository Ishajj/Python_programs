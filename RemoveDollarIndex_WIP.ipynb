{
 "cells": [
  {
   "cell_type": "code",
   "execution_count": 68,
   "id": "4f9c86b6",
   "metadata": {},
   "outputs": [],
   "source": [
    "def isDollarDeleteEqual(ls):\n",
    "    '''Delete char before dollar sign'''\n",
    "    c=[]\n",
    "    for i in ls:\n",
    "        x = list(i)      \n",
    "        while('$' in x):\n",
    "            dollar_index = x.index('$')\n",
    "            print(dollar_index)\n",
    "            x = x[:dollar_index] + x[dollar_index+1:]\n",
    "        c.append(''.join(x))\n",
    "        \n",
    "    if len(set(c))==1:\n",
    "        return True\n",
    "    else:\n",
    "        return False"
   ]
  },
  {
   "cell_type": "code",
   "execution_count": 69,
   "id": "18cfd8f0",
   "metadata": {},
   "outputs": [
    {
     "name": "stdout",
     "output_type": "stream",
     "text": [
      "3\n",
      "4\n",
      "5\n",
      "4\n"
     ]
    },
    {
     "data": {
      "text/plain": [
       "True"
      ]
     },
     "execution_count": 69,
     "metadata": {},
     "output_type": "execute_result"
    }
   ],
   "source": [
    "isDollarDeleteEqual([\"a90$n$c$se\", \"a90n$cse\"])"
   ]
  },
  {
   "cell_type": "code",
   "execution_count": null,
   "id": "53c7fc55",
   "metadata": {},
   "outputs": [],
   "source": []
  },
  {
   "cell_type": "code",
   "execution_count": null,
   "id": "3b960b1d",
   "metadata": {},
   "outputs": [],
   "source": []
  },
  {
   "cell_type": "code",
   "execution_count": null,
   "id": "afeb1508",
   "metadata": {},
   "outputs": [],
   "source": []
  }
 ],
 "metadata": {
  "kernelspec": {
   "display_name": "Python 3 (ipykernel)",
   "language": "python",
   "name": "python3"
  },
  "language_info": {
   "codemirror_mode": {
    "name": "ipython",
    "version": 3
   },
   "file_extension": ".py",
   "mimetype": "text/x-python",
   "name": "python",
   "nbconvert_exporter": "python",
   "pygments_lexer": "ipython3",
   "version": "3.9.7"
  }
 },
 "nbformat": 4,
 "nbformat_minor": 5
}
