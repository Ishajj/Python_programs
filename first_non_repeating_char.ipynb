{
 "cells": [
  {
   "cell_type": "code",
   "execution_count": 4,
   "id": "1b57f999",
   "metadata": {},
   "outputs": [],
   "source": [
    "def reduce_one(n):\n",
    "    \"\"\"Find First Non-Repeating Character\"\"\"\n",
    "    ls = list(n)\n",
    "    for i in range(len(ls)):\n",
    "        if ls.count(ls[i])==1:\n",
    "            return ls[i]"
   ]
  },
  {
   "cell_type": "code",
   "execution_count": 6,
   "id": "1a0eb6d6",
   "metadata": {},
   "outputs": [
    {
     "data": {
      "text/plain": [
       "'o'"
      ]
     },
     "execution_count": 6,
     "metadata": {},
     "output_type": "execute_result"
    }
   ],
   "source": [
    "reduce_one(\"ofsddsgdsggsgfsp\")"
   ]
  },
  {
   "cell_type": "code",
   "execution_count": null,
   "id": "fa8eb336",
   "metadata": {},
   "outputs": [],
   "source": []
  }
 ],
 "metadata": {
  "kernelspec": {
   "display_name": "Python 3 (ipykernel)",
   "language": "python",
   "name": "python3"
  },
  "language_info": {
   "codemirror_mode": {
    "name": "ipython",
    "version": 3
   },
   "file_extension": ".py",
   "mimetype": "text/x-python",
   "name": "python",
   "nbconvert_exporter": "python",
   "pygments_lexer": "ipython3",
   "version": "3.9.7"
  }
 },
 "nbformat": 4,
 "nbformat_minor": 5
}
