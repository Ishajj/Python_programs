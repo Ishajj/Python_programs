{
 "cells": [
  {
   "cell_type": "code",
   "execution_count": 18,
   "id": "744c62e2",
   "metadata": {},
   "outputs": [],
   "source": [
    "def lonelyNumber(ls):\n",
    "    '''find lonely number'''\n",
    "    for i in range(len(ls)):\n",
    "        if ls.count(ls[i])==1:\n",
    "            return ls[i]\n",
    "    return False"
   ]
  },
  {
   "cell_type": "code",
   "execution_count": 29,
   "id": "969355d0",
   "metadata": {},
   "outputs": [
    {
     "data": {
      "text/plain": [
       "4"
      ]
     },
     "execution_count": 29,
     "metadata": {},
     "output_type": "execute_result"
    }
   ],
   "source": [
    "lonelyNumber([1,2,3,2,3,1,4,7])"
   ]
  },
  {
   "cell_type": "code",
   "execution_count": 42,
   "id": "61ce8e7a",
   "metadata": {},
   "outputs": [],
   "source": [
    "ls = [1,2,3,2,3,1,4,7,88 , 8, 88, 9, 0, 0, 12, 13]"
   ]
  },
  {
   "cell_type": "code",
   "execution_count": 43,
   "id": "6e94a33c",
   "metadata": {},
   "outputs": [],
   "source": [
    "y= ([ls[i] for i in range(len(ls)) if ls.count(ls[i])==1])"
   ]
  },
  {
   "cell_type": "code",
   "execution_count": 44,
   "id": "2606ad91",
   "metadata": {},
   "outputs": [
    {
     "data": {
      "text/plain": [
       "[4, 7, 8, 9, 12, 13]"
      ]
     },
     "execution_count": 44,
     "metadata": {},
     "output_type": "execute_result"
    }
   ],
   "source": [
    "y"
   ]
  },
  {
   "cell_type": "code",
   "execution_count": null,
   "id": "1b7bf680",
   "metadata": {},
   "outputs": [],
   "source": []
  }
 ],
 "metadata": {
  "kernelspec": {
   "display_name": "Python 3 (ipykernel)",
   "language": "python",
   "name": "python3"
  },
  "language_info": {
   "codemirror_mode": {
    "name": "ipython",
    "version": 3
   },
   "file_extension": ".py",
   "mimetype": "text/x-python",
   "name": "python",
   "nbconvert_exporter": "python",
   "pygments_lexer": "ipython3",
   "version": "3.9.7"
  }
 },
 "nbformat": 4,
 "nbformat_minor": 5
}
